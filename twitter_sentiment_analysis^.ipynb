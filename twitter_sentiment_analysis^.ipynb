{
 "cells": [
  {
   "cell_type": "markdown",
   "id": "5fa38c36",
   "metadata": {
    "papermill": {
     "duration": 0.010867,
     "end_time": "2024-07-26T12:51:29.176254",
     "exception": false,
     "start_time": "2024-07-26T12:51:29.165387",
     "status": "completed"
    },
    "tags": []
   },
   "source": [
    "# <a id=\"Import\"></a>\n",
    "# <p style=\"background-color: #FFC0CB; font-family: 'Copperplate'; color:#4B0082; font-size:140%; text-align:center; border-radius:1000px 10px;\">About Project and Data</p> \n",
    "\n",
    "## Project Title: Sentiment Sleuth: Cracking Twitter's Emotional Code with LSTM and NLP\n",
    "\n",
    "### **Description:**\n",
    "   This Kaggle notebook, titled \"Twitter Sentiment Analysis,\" focuses on understanding and classifying the sentiment of tweets. Leveraging the power of Natural Language Processing (NLP) and Long Short-Term Memory (LSTM) networks, this project aims to accurately predict whether a given tweet expresses a positive or negative sentiment. By analyzing a dataset of tweets, the notebook demonstrates the entire workflow of data preprocessing, model training, evaluation, and visualization of results.\n",
    "    \n",
    "### **Objective:**\n",
    "   The primary objective of this notebook is to develop an efficient binary classification model that can categorize tweets into positive or negative sentiments. The specific goals include:\n",
    "\n",
    "**Data Preprocessing:** Clean and preprocess the raw tweet data, including tokenization, stop word removal, and text normalization.\n",
    "\n",
    "**Feature Engineering:** Transform the text data into numerical representations suitable for input into the LSTM model.\n",
    "\n",
    "**Model Building:** Construct and train an LSTM model optimized for text data to perform the binary classification task.\n",
    "\n",
    "**Evaluation:** Assess the model's performance using appropriate metrics such as accuracy, precision, recall, and F1-score.\n",
    "\n",
    "**Visualization:** Provide clear and insightful visualizations of the results to interpret the model's effectiveness and areas for improvement.\n",
    "\n",
    "### **Dataset:**\n",
    "[sentimental-analysis-for-tweets](/kaggle/input/sentimental-analysis-for-tweets)"
   ]
  },
  {
   "cell_type": "markdown",
   "id": "0d8e8425",
   "metadata": {
    "papermill": {
     "duration": 0.010834,
     "end_time": "2024-07-26T12:51:29.198631",
     "exception": false,
     "start_time": "2024-07-26T12:51:29.187797",
     "status": "completed"
    },
    "tags": []
   },
   "source": [
    "# <a id=\"Import\"></a>\n",
    "# <p style=\"background-color: #FFC0CB; font-family: 'Copperplate'; color:#4B0082; font-size:140%; text-align:center; border-radius:1000px 10px;\">Importing Libraries and Checking Data</p> "
   ]
  },
  {
   "cell_type": "markdown",
   "id": "d604c807",
   "metadata": {
    "papermill": {
     "duration": 0.011618,
     "end_time": "2024-07-26T12:51:29.221654",
     "exception": false,
     "start_time": "2024-07-26T12:51:29.210036",
     "status": "completed"
    },
    "tags": []
   },
   "source": [
    "# **Importing Libraries** "
   ]
  },
  {
   "cell_type": "code",
   "execution_count": 1,
   "id": "ee8c612d",
   "metadata": {
    "execution": {
     "iopub.execute_input": "2024-07-26T12:51:29.245224Z",
     "iopub.status.busy": "2024-07-26T12:51:29.244965Z",
     "iopub.status.idle": "2024-07-26T12:51:43.786620Z",
     "shell.execute_reply": "2024-07-26T12:51:43.785688Z"
    },
    "papermill": {
     "duration": 14.556337,
     "end_time": "2024-07-26T12:51:43.788990",
     "exception": false,
     "start_time": "2024-07-26T12:51:29.232653",
     "status": "completed"
    },
    "tags": []
   },
   "outputs": [
    {
     "name": "stdout",
     "output_type": "stream",
     "text": [
      "[nltk_data] Downloading package punkt to /usr/share/nltk_data...\n",
      "[nltk_data]   Package punkt is already up-to-date!\n"
     ]
    },
    {
     "name": "stderr",
     "output_type": "stream",
     "text": [
      "2024-07-26 12:51:34.028633: E external/local_xla/xla/stream_executor/cuda/cuda_dnn.cc:9261] Unable to register cuDNN factory: Attempting to register factory for plugin cuDNN when one has already been registered\n",
      "2024-07-26 12:51:34.028728: E external/local_xla/xla/stream_executor/cuda/cuda_fft.cc:607] Unable to register cuFFT factory: Attempting to register factory for plugin cuFFT when one has already been registered\n",
      "2024-07-26 12:51:34.169017: E external/local_xla/xla/stream_executor/cuda/cuda_blas.cc:1515] Unable to register cuBLAS factory: Attempting to register factory for plugin cuBLAS when one has already been registered\n"
     ]
    }
   ],
   "source": [
    "# Import libraries\n",
    "\n",
    "import numpy as np\n",
    "import pandas as pd\n",
    "import matplotlib.pyplot as plt\n",
    "from bs4 import BeautifulSoup\n",
    "import string\n",
    "import re\n",
    "import emoji\n",
    "import nltk\n",
    "from nltk.corpus import stopwords\n",
    "from nltk.stem import WordNetLemmatizer\n",
    "from nltk.tokenize import word_tokenize\n",
    "nltk.download('punkt')\n",
    "from tensorflow.keras.preprocessing.text import Tokenizer\n",
    "from tensorflow.keras.preprocessing.sequence import pad_sequences\n",
    "\n",
    "from sklearn.model_selection import train_test_split\n",
    "\n",
    "from tensorflow.keras.models import Sequential\n",
    "from tensorflow.keras.layers import *\n",
    "from keras.layers import LSTM, Dense, SimpleRNN, Embedding, Flatten, Dropout\n",
    "from keras.activations import softmax"
   ]
  },
  {
   "cell_type": "markdown",
   "id": "cf89e1fe",
   "metadata": {
    "papermill": {
     "duration": 0.011184,
     "end_time": "2024-07-26T12:51:43.811736",
     "exception": false,
     "start_time": "2024-07-26T12:51:43.800552",
     "status": "completed"
    },
    "tags": []
   },
   "source": [
    "# **Loading Dataset**"
   ]
  },
  {
   "cell_type": "code",
   "execution_count": 2,
   "id": "3be943e3",
   "metadata": {
    "execution": {
     "iopub.execute_input": "2024-07-26T12:51:43.835611Z",
     "iopub.status.busy": "2024-07-26T12:51:43.835098Z",
     "iopub.status.idle": "2024-07-26T12:51:43.889862Z",
     "shell.execute_reply": "2024-07-26T12:51:43.888992Z"
    },
    "papermill": {
     "duration": 0.068999,
     "end_time": "2024-07-26T12:51:43.891957",
     "exception": false,
     "start_time": "2024-07-26T12:51:43.822958",
     "status": "completed"
    },
    "tags": []
   },
   "outputs": [],
   "source": [
    "data = pd.read_csv(\"/kaggle/input/sentimental-analysis-for-tweets/sentiment_tweets3.csv\")"
   ]
  },
  {
   "cell_type": "code",
   "execution_count": 3,
   "id": "386e3cc3",
   "metadata": {
    "execution": {
     "iopub.execute_input": "2024-07-26T12:51:43.916503Z",
     "iopub.status.busy": "2024-07-26T12:51:43.916232Z",
     "iopub.status.idle": "2024-07-26T12:51:43.933391Z",
     "shell.execute_reply": "2024-07-26T12:51:43.932561Z"
    },
    "papermill": {
     "duration": 0.031236,
     "end_time": "2024-07-26T12:51:43.935274",
     "exception": false,
     "start_time": "2024-07-26T12:51:43.904038",
     "status": "completed"
    },
    "tags": []
   },
   "outputs": [
    {
     "data": {
      "text/html": [
       "<div>\n",
       "<style scoped>\n",
       "    .dataframe tbody tr th:only-of-type {\n",
       "        vertical-align: middle;\n",
       "    }\n",
       "\n",
       "    .dataframe tbody tr th {\n",
       "        vertical-align: top;\n",
       "    }\n",
       "\n",
       "    .dataframe thead th {\n",
       "        text-align: right;\n",
       "    }\n",
       "</style>\n",
       "<table border=\"1\" class=\"dataframe\">\n",
       "  <thead>\n",
       "    <tr style=\"text-align: right;\">\n",
       "      <th></th>\n",
       "      <th>Index</th>\n",
       "      <th>message to examine</th>\n",
       "      <th>label (depression result)</th>\n",
       "    </tr>\n",
       "  </thead>\n",
       "  <tbody>\n",
       "    <tr>\n",
       "      <th>0</th>\n",
       "      <td>106</td>\n",
       "      <td>just had a real good moment. i missssssssss hi...</td>\n",
       "      <td>0</td>\n",
       "    </tr>\n",
       "    <tr>\n",
       "      <th>1</th>\n",
       "      <td>217</td>\n",
       "      <td>is reading manga  http://plurk.com/p/mzp1e</td>\n",
       "      <td>0</td>\n",
       "    </tr>\n",
       "    <tr>\n",
       "      <th>2</th>\n",
       "      <td>220</td>\n",
       "      <td>@comeagainjen http://twitpic.com/2y2lx - http:...</td>\n",
       "      <td>0</td>\n",
       "    </tr>\n",
       "    <tr>\n",
       "      <th>3</th>\n",
       "      <td>288</td>\n",
       "      <td>@lapcat Need to send 'em to my accountant tomo...</td>\n",
       "      <td>0</td>\n",
       "    </tr>\n",
       "    <tr>\n",
       "      <th>4</th>\n",
       "      <td>540</td>\n",
       "      <td>ADD ME ON MYSPACE!!!  myspace.com/LookThunder</td>\n",
       "      <td>0</td>\n",
       "    </tr>\n",
       "  </tbody>\n",
       "</table>\n",
       "</div>"
      ],
      "text/plain": [
       "   Index                                 message to examine  \\\n",
       "0    106  just had a real good moment. i missssssssss hi...   \n",
       "1    217         is reading manga  http://plurk.com/p/mzp1e   \n",
       "2    220  @comeagainjen http://twitpic.com/2y2lx - http:...   \n",
       "3    288  @lapcat Need to send 'em to my accountant tomo...   \n",
       "4    540      ADD ME ON MYSPACE!!!  myspace.com/LookThunder   \n",
       "\n",
       "   label (depression result)  \n",
       "0                          0  \n",
       "1                          0  \n",
       "2                          0  \n",
       "3                          0  \n",
       "4                          0  "
      ]
     },
     "execution_count": 3,
     "metadata": {},
     "output_type": "execute_result"
    }
   ],
   "source": [
    "data.head()"
   ]
  },
  {
   "cell_type": "code",
   "execution_count": 4,
   "id": "c10af015",
   "metadata": {
    "execution": {
     "iopub.execute_input": "2024-07-26T12:51:43.959571Z",
     "iopub.status.busy": "2024-07-26T12:51:43.959108Z",
     "iopub.status.idle": "2024-07-26T12:51:43.964338Z",
     "shell.execute_reply": "2024-07-26T12:51:43.963532Z"
    },
    "papermill": {
     "duration": 0.019248,
     "end_time": "2024-07-26T12:51:43.966271",
     "exception": false,
     "start_time": "2024-07-26T12:51:43.947023",
     "status": "completed"
    },
    "tags": []
   },
   "outputs": [
    {
     "data": {
      "text/plain": [
       "(10314, 3)"
      ]
     },
     "execution_count": 4,
     "metadata": {},
     "output_type": "execute_result"
    }
   ],
   "source": [
    "data.shape"
   ]
  },
  {
   "cell_type": "code",
   "execution_count": 5,
   "id": "8b429f67",
   "metadata": {
    "execution": {
     "iopub.execute_input": "2024-07-26T12:51:43.990861Z",
     "iopub.status.busy": "2024-07-26T12:51:43.990245Z",
     "iopub.status.idle": "2024-07-26T12:51:43.998211Z",
     "shell.execute_reply": "2024-07-26T12:51:43.997449Z"
    },
    "papermill": {
     "duration": 0.022313,
     "end_time": "2024-07-26T12:51:44.000183",
     "exception": false,
     "start_time": "2024-07-26T12:51:43.977870",
     "status": "completed"
    },
    "tags": []
   },
   "outputs": [
    {
     "data": {
      "text/html": [
       "<div>\n",
       "<style scoped>\n",
       "    .dataframe tbody tr th:only-of-type {\n",
       "        vertical-align: middle;\n",
       "    }\n",
       "\n",
       "    .dataframe tbody tr th {\n",
       "        vertical-align: top;\n",
       "    }\n",
       "\n",
       "    .dataframe thead th {\n",
       "        text-align: right;\n",
       "    }\n",
       "</style>\n",
       "<table border=\"1\" class=\"dataframe\">\n",
       "  <thead>\n",
       "    <tr style=\"text-align: right;\">\n",
       "      <th></th>\n",
       "      <th>Index</th>\n",
       "      <th>message to examine</th>\n",
       "      <th>label (depression result)</th>\n",
       "    </tr>\n",
       "  </thead>\n",
       "  <tbody>\n",
       "    <tr>\n",
       "      <th>0</th>\n",
       "      <td>106</td>\n",
       "      <td>just had a real good moment. i missssssssss hi...</td>\n",
       "      <td>0</td>\n",
       "    </tr>\n",
       "    <tr>\n",
       "      <th>1</th>\n",
       "      <td>217</td>\n",
       "      <td>is reading manga  http://plurk.com/p/mzp1e</td>\n",
       "      <td>0</td>\n",
       "    </tr>\n",
       "    <tr>\n",
       "      <th>2</th>\n",
       "      <td>220</td>\n",
       "      <td>@comeagainjen http://twitpic.com/2y2lx - http:...</td>\n",
       "      <td>0</td>\n",
       "    </tr>\n",
       "    <tr>\n",
       "      <th>3</th>\n",
       "      <td>288</td>\n",
       "      <td>@lapcat Need to send 'em to my accountant tomo...</td>\n",
       "      <td>0</td>\n",
       "    </tr>\n",
       "    <tr>\n",
       "      <th>4</th>\n",
       "      <td>540</td>\n",
       "      <td>ADD ME ON MYSPACE!!!  myspace.com/LookThunder</td>\n",
       "      <td>0</td>\n",
       "    </tr>\n",
       "  </tbody>\n",
       "</table>\n",
       "</div>"
      ],
      "text/plain": [
       "   Index                                 message to examine  \\\n",
       "0    106  just had a real good moment. i missssssssss hi...   \n",
       "1    217         is reading manga  http://plurk.com/p/mzp1e   \n",
       "2    220  @comeagainjen http://twitpic.com/2y2lx - http:...   \n",
       "3    288  @lapcat Need to send 'em to my accountant tomo...   \n",
       "4    540      ADD ME ON MYSPACE!!!  myspace.com/LookThunder   \n",
       "\n",
       "   label (depression result)  \n",
       "0                          0  \n",
       "1                          0  \n",
       "2                          0  \n",
       "3                          0  \n",
       "4                          0  "
      ]
     },
     "execution_count": 5,
     "metadata": {},
     "output_type": "execute_result"
    }
   ],
   "source": [
    "data.head()"
   ]
  },
  {
   "cell_type": "code",
   "execution_count": 6,
   "id": "e52b4c05",
   "metadata": {
    "execution": {
     "iopub.execute_input": "2024-07-26T12:51:44.024598Z",
     "iopub.status.busy": "2024-07-26T12:51:44.024347Z",
     "iopub.status.idle": "2024-07-26T12:51:44.032534Z",
     "shell.execute_reply": "2024-07-26T12:51:44.031777Z"
    },
    "papermill": {
     "duration": 0.022536,
     "end_time": "2024-07-26T12:51:44.034473",
     "exception": false,
     "start_time": "2024-07-26T12:51:44.011937",
     "status": "completed"
    },
    "tags": []
   },
   "outputs": [
    {
     "data": {
      "text/html": [
       "<div>\n",
       "<style scoped>\n",
       "    .dataframe tbody tr th:only-of-type {\n",
       "        vertical-align: middle;\n",
       "    }\n",
       "\n",
       "    .dataframe tbody tr th {\n",
       "        vertical-align: top;\n",
       "    }\n",
       "\n",
       "    .dataframe thead th {\n",
       "        text-align: right;\n",
       "    }\n",
       "</style>\n",
       "<table border=\"1\" class=\"dataframe\">\n",
       "  <thead>\n",
       "    <tr style=\"text-align: right;\">\n",
       "      <th></th>\n",
       "      <th>Index</th>\n",
       "      <th>Text</th>\n",
       "      <th>label</th>\n",
       "    </tr>\n",
       "  </thead>\n",
       "  <tbody>\n",
       "    <tr>\n",
       "      <th>0</th>\n",
       "      <td>106</td>\n",
       "      <td>just had a real good moment. i missssssssss hi...</td>\n",
       "      <td>0</td>\n",
       "    </tr>\n",
       "    <tr>\n",
       "      <th>1</th>\n",
       "      <td>217</td>\n",
       "      <td>is reading manga  http://plurk.com/p/mzp1e</td>\n",
       "      <td>0</td>\n",
       "    </tr>\n",
       "    <tr>\n",
       "      <th>2</th>\n",
       "      <td>220</td>\n",
       "      <td>@comeagainjen http://twitpic.com/2y2lx - http:...</td>\n",
       "      <td>0</td>\n",
       "    </tr>\n",
       "    <tr>\n",
       "      <th>3</th>\n",
       "      <td>288</td>\n",
       "      <td>@lapcat Need to send 'em to my accountant tomo...</td>\n",
       "      <td>0</td>\n",
       "    </tr>\n",
       "    <tr>\n",
       "      <th>4</th>\n",
       "      <td>540</td>\n",
       "      <td>ADD ME ON MYSPACE!!!  myspace.com/LookThunder</td>\n",
       "      <td>0</td>\n",
       "    </tr>\n",
       "  </tbody>\n",
       "</table>\n",
       "</div>"
      ],
      "text/plain": [
       "   Index                                               Text  label\n",
       "0    106  just had a real good moment. i missssssssss hi...      0\n",
       "1    217         is reading manga  http://plurk.com/p/mzp1e      0\n",
       "2    220  @comeagainjen http://twitpic.com/2y2lx - http:...      0\n",
       "3    288  @lapcat Need to send 'em to my accountant tomo...      0\n",
       "4    540      ADD ME ON MYSPACE!!!  myspace.com/LookThunder      0"
      ]
     },
     "execution_count": 6,
     "metadata": {},
     "output_type": "execute_result"
    }
   ],
   "source": [
    "data.columns = ['Index','Text', 'label']\n",
    "data.head()"
   ]
  },
  {
   "cell_type": "markdown",
   "id": "bc26c79a",
   "metadata": {
    "papermill": {
     "duration": 0.011716,
     "end_time": "2024-07-26T12:51:44.058146",
     "exception": false,
     "start_time": "2024-07-26T12:51:44.046430",
     "status": "completed"
    },
    "tags": []
   },
   "source": [
    "# <a id=\"Import\"></a>\n",
    "# <p style=\"background-color: #FFC0CB; font-family: 'Copperplate'; color:#4B0082; font-size:140%; text-align:center; border-radius:1000px 10px;\">Data Preprocessing Steps</p> "
   ]
  },
  {
   "cell_type": "markdown",
   "id": "bbb16e1c",
   "metadata": {
    "papermill": {
     "duration": 0.011749,
     "end_time": "2024-07-26T12:51:44.081888",
     "exception": false,
     "start_time": "2024-07-26T12:51:44.070139",
     "status": "completed"
    },
    "tags": []
   },
   "source": [
    "# **Lowercasing the Text :**"
   ]
  },
  {
   "cell_type": "code",
   "execution_count": 7,
   "id": "2ac2d931",
   "metadata": {
    "execution": {
     "iopub.execute_input": "2024-07-26T12:51:44.107639Z",
     "iopub.status.busy": "2024-07-26T12:51:44.107381Z",
     "iopub.status.idle": "2024-07-26T12:51:44.122208Z",
     "shell.execute_reply": "2024-07-26T12:51:44.121428Z"
    },
    "papermill": {
     "duration": 0.029248,
     "end_time": "2024-07-26T12:51:44.123975",
     "exception": false,
     "start_time": "2024-07-26T12:51:44.094727",
     "status": "completed"
    },
    "tags": []
   },
   "outputs": [
    {
     "data": {
      "text/html": [
       "<div>\n",
       "<style scoped>\n",
       "    .dataframe tbody tr th:only-of-type {\n",
       "        vertical-align: middle;\n",
       "    }\n",
       "\n",
       "    .dataframe tbody tr th {\n",
       "        vertical-align: top;\n",
       "    }\n",
       "\n",
       "    .dataframe thead th {\n",
       "        text-align: right;\n",
       "    }\n",
       "</style>\n",
       "<table border=\"1\" class=\"dataframe\">\n",
       "  <thead>\n",
       "    <tr style=\"text-align: right;\">\n",
       "      <th></th>\n",
       "      <th>Index</th>\n",
       "      <th>Text</th>\n",
       "      <th>label</th>\n",
       "    </tr>\n",
       "  </thead>\n",
       "  <tbody>\n",
       "    <tr>\n",
       "      <th>0</th>\n",
       "      <td>106</td>\n",
       "      <td>just had a real good moment. i missssssssss hi...</td>\n",
       "      <td>0</td>\n",
       "    </tr>\n",
       "    <tr>\n",
       "      <th>1</th>\n",
       "      <td>217</td>\n",
       "      <td>is reading manga  http://plurk.com/p/mzp1e</td>\n",
       "      <td>0</td>\n",
       "    </tr>\n",
       "    <tr>\n",
       "      <th>2</th>\n",
       "      <td>220</td>\n",
       "      <td>@comeagainjen http://twitpic.com/2y2lx - http:...</td>\n",
       "      <td>0</td>\n",
       "    </tr>\n",
       "    <tr>\n",
       "      <th>3</th>\n",
       "      <td>288</td>\n",
       "      <td>@lapcat need to send 'em to my accountant tomo...</td>\n",
       "      <td>0</td>\n",
       "    </tr>\n",
       "    <tr>\n",
       "      <th>4</th>\n",
       "      <td>540</td>\n",
       "      <td>add me on myspace!!!  myspace.com/lookthunder</td>\n",
       "      <td>0</td>\n",
       "    </tr>\n",
       "  </tbody>\n",
       "</table>\n",
       "</div>"
      ],
      "text/plain": [
       "   Index                                               Text  label\n",
       "0    106  just had a real good moment. i missssssssss hi...      0\n",
       "1    217         is reading manga  http://plurk.com/p/mzp1e      0\n",
       "2    220  @comeagainjen http://twitpic.com/2y2lx - http:...      0\n",
       "3    288  @lapcat need to send 'em to my accountant tomo...      0\n",
       "4    540      add me on myspace!!!  myspace.com/lookthunder      0"
      ]
     },
     "execution_count": 7,
     "metadata": {},
     "output_type": "execute_result"
    }
   ],
   "source": [
    "data['Text'] = data['Text'].str.lower()\n",
    "data.head()"
   ]
  },
  {
   "cell_type": "markdown",
   "id": "f996a715",
   "metadata": {
    "papermill": {
     "duration": 0.011936,
     "end_time": "2024-07-26T12:51:44.147990",
     "exception": false,
     "start_time": "2024-07-26T12:51:44.136054",
     "status": "completed"
    },
    "tags": []
   },
   "source": [
    "# **Remove HTML tags :**"
   ]
  },
  {
   "cell_type": "code",
   "execution_count": 8,
   "id": "a3b5bcc0",
   "metadata": {
    "execution": {
     "iopub.execute_input": "2024-07-26T12:51:44.173254Z",
     "iopub.status.busy": "2024-07-26T12:51:44.172996Z",
     "iopub.status.idle": "2024-07-26T12:51:44.690433Z",
     "shell.execute_reply": "2024-07-26T12:51:44.689569Z"
    },
    "papermill": {
     "duration": 0.532346,
     "end_time": "2024-07-26T12:51:44.692440",
     "exception": false,
     "start_time": "2024-07-26T12:51:44.160094",
     "status": "completed"
    },
    "tags": []
   },
   "outputs": [
    {
     "name": "stderr",
     "output_type": "stream",
     "text": [
      "/tmp/ipykernel_22/2851081516.py:2: MarkupResemblesLocatorWarning: The input looks more like a filename than markup. You may want to open this file and pass the filehandle into Beautiful Soup.\n",
      "  soup = BeautifulSoup(text, 'html.parser')\n"
     ]
    },
    {
     "data": {
      "text/html": [
       "<div>\n",
       "<style scoped>\n",
       "    .dataframe tbody tr th:only-of-type {\n",
       "        vertical-align: middle;\n",
       "    }\n",
       "\n",
       "    .dataframe tbody tr th {\n",
       "        vertical-align: top;\n",
       "    }\n",
       "\n",
       "    .dataframe thead th {\n",
       "        text-align: right;\n",
       "    }\n",
       "</style>\n",
       "<table border=\"1\" class=\"dataframe\">\n",
       "  <thead>\n",
       "    <tr style=\"text-align: right;\">\n",
       "      <th></th>\n",
       "      <th>Index</th>\n",
       "      <th>Text</th>\n",
       "      <th>label</th>\n",
       "    </tr>\n",
       "  </thead>\n",
       "  <tbody>\n",
       "    <tr>\n",
       "      <th>0</th>\n",
       "      <td>106</td>\n",
       "      <td>just had a real good moment. i missssssssss hi...</td>\n",
       "      <td>0</td>\n",
       "    </tr>\n",
       "    <tr>\n",
       "      <th>1</th>\n",
       "      <td>217</td>\n",
       "      <td>is reading manga  http://plurk.com/p/mzp1e</td>\n",
       "      <td>0</td>\n",
       "    </tr>\n",
       "    <tr>\n",
       "      <th>2</th>\n",
       "      <td>220</td>\n",
       "      <td>@comeagainjen http://twitpic.com/2y2lx - http:...</td>\n",
       "      <td>0</td>\n",
       "    </tr>\n",
       "    <tr>\n",
       "      <th>3</th>\n",
       "      <td>288</td>\n",
       "      <td>@lapcat need to send 'em to my accountant tomo...</td>\n",
       "      <td>0</td>\n",
       "    </tr>\n",
       "    <tr>\n",
       "      <th>4</th>\n",
       "      <td>540</td>\n",
       "      <td>add me on myspace!!!  myspace.com/lookthunder</td>\n",
       "      <td>0</td>\n",
       "    </tr>\n",
       "  </tbody>\n",
       "</table>\n",
       "</div>"
      ],
      "text/plain": [
       "   Index                                               Text  label\n",
       "0    106  just had a real good moment. i missssssssss hi...      0\n",
       "1    217         is reading manga  http://plurk.com/p/mzp1e      0\n",
       "2    220  @comeagainjen http://twitpic.com/2y2lx - http:...      0\n",
       "3    288  @lapcat need to send 'em to my accountant tomo...      0\n",
       "4    540      add me on myspace!!!  myspace.com/lookthunder      0"
      ]
     },
     "execution_count": 8,
     "metadata": {},
     "output_type": "execute_result"
    }
   ],
   "source": [
    "def remove_html_tags(text):\n",
    "    soup = BeautifulSoup(text, 'html.parser')\n",
    "    return soup.get_text()\n",
    "\n",
    "data['Text'] = data['Text'].apply(remove_html_tags)\n",
    "\n",
    "data.head()"
   ]
  },
  {
   "cell_type": "markdown",
   "id": "4e4bb0dd",
   "metadata": {
    "papermill": {
     "duration": 0.012232,
     "end_time": "2024-07-26T12:51:44.717384",
     "exception": false,
     "start_time": "2024-07-26T12:51:44.705152",
     "status": "completed"
    },
    "tags": []
   },
   "source": [
    "# **Remove URLs :**"
   ]
  },
  {
   "cell_type": "code",
   "execution_count": 9,
   "id": "ec97a914",
   "metadata": {
    "execution": {
     "iopub.execute_input": "2024-07-26T12:51:44.743227Z",
     "iopub.status.busy": "2024-07-26T12:51:44.742968Z",
     "iopub.status.idle": "2024-07-26T12:51:44.788387Z",
     "shell.execute_reply": "2024-07-26T12:51:44.787586Z"
    },
    "papermill": {
     "duration": 0.060383,
     "end_time": "2024-07-26T12:51:44.790171",
     "exception": false,
     "start_time": "2024-07-26T12:51:44.729788",
     "status": "completed"
    },
    "tags": []
   },
   "outputs": [
    {
     "data": {
      "text/html": [
       "<div>\n",
       "<style scoped>\n",
       "    .dataframe tbody tr th:only-of-type {\n",
       "        vertical-align: middle;\n",
       "    }\n",
       "\n",
       "    .dataframe tbody tr th {\n",
       "        vertical-align: top;\n",
       "    }\n",
       "\n",
       "    .dataframe thead th {\n",
       "        text-align: right;\n",
       "    }\n",
       "</style>\n",
       "<table border=\"1\" class=\"dataframe\">\n",
       "  <thead>\n",
       "    <tr style=\"text-align: right;\">\n",
       "      <th></th>\n",
       "      <th>Index</th>\n",
       "      <th>Text</th>\n",
       "      <th>label</th>\n",
       "    </tr>\n",
       "  </thead>\n",
       "  <tbody>\n",
       "    <tr>\n",
       "      <th>0</th>\n",
       "      <td>106</td>\n",
       "      <td>just had a real good moment. i missssssssss hi...</td>\n",
       "      <td>0</td>\n",
       "    </tr>\n",
       "    <tr>\n",
       "      <th>1</th>\n",
       "      <td>217</td>\n",
       "      <td>is reading manga</td>\n",
       "      <td>0</td>\n",
       "    </tr>\n",
       "    <tr>\n",
       "      <th>2</th>\n",
       "      <td>220</td>\n",
       "      <td>@comeagainjen  -</td>\n",
       "      <td>0</td>\n",
       "    </tr>\n",
       "    <tr>\n",
       "      <th>3</th>\n",
       "      <td>288</td>\n",
       "      <td>@lapcat need to send 'em to my accountant tomo...</td>\n",
       "      <td>0</td>\n",
       "    </tr>\n",
       "    <tr>\n",
       "      <th>4</th>\n",
       "      <td>540</td>\n",
       "      <td>add me on myspace!!!  myspace.com/lookthunder</td>\n",
       "      <td>0</td>\n",
       "    </tr>\n",
       "  </tbody>\n",
       "</table>\n",
       "</div>"
      ],
      "text/plain": [
       "   Index                                               Text  label\n",
       "0    106  just had a real good moment. i missssssssss hi...      0\n",
       "1    217                                 is reading manga        0\n",
       "2    220                                 @comeagainjen  -        0\n",
       "3    288  @lapcat need to send 'em to my accountant tomo...      0\n",
       "4    540      add me on myspace!!!  myspace.com/lookthunder      0"
      ]
     },
     "execution_count": 9,
     "metadata": {},
     "output_type": "execute_result"
    }
   ],
   "source": [
    "def remove_urls(text):\n",
    "    return re.sub(r'http\\S+|www\\S+', '', text)\n",
    "\n",
    "data['Text'] = data['Text'].apply(remove_urls)\n",
    "\n",
    "data.head()"
   ]
  },
  {
   "cell_type": "markdown",
   "id": "a9d7737d",
   "metadata": {
    "papermill": {
     "duration": 0.012464,
     "end_time": "2024-07-26T12:51:44.815432",
     "exception": false,
     "start_time": "2024-07-26T12:51:44.802968",
     "status": "completed"
    },
    "tags": []
   },
   "source": [
    "# **Remove punctuation :**"
   ]
  },
  {
   "cell_type": "code",
   "execution_count": 10,
   "id": "5dcc0c90",
   "metadata": {
    "execution": {
     "iopub.execute_input": "2024-07-26T12:51:44.841869Z",
     "iopub.status.busy": "2024-07-26T12:51:44.841590Z",
     "iopub.status.idle": "2024-07-26T12:51:44.901474Z",
     "shell.execute_reply": "2024-07-26T12:51:44.900593Z"
    },
    "papermill": {
     "duration": 0.075088,
     "end_time": "2024-07-26T12:51:44.903369",
     "exception": false,
     "start_time": "2024-07-26T12:51:44.828281",
     "status": "completed"
    },
    "tags": []
   },
   "outputs": [
    {
     "data": {
      "text/html": [
       "<div>\n",
       "<style scoped>\n",
       "    .dataframe tbody tr th:only-of-type {\n",
       "        vertical-align: middle;\n",
       "    }\n",
       "\n",
       "    .dataframe tbody tr th {\n",
       "        vertical-align: top;\n",
       "    }\n",
       "\n",
       "    .dataframe thead th {\n",
       "        text-align: right;\n",
       "    }\n",
       "</style>\n",
       "<table border=\"1\" class=\"dataframe\">\n",
       "  <thead>\n",
       "    <tr style=\"text-align: right;\">\n",
       "      <th></th>\n",
       "      <th>Index</th>\n",
       "      <th>Text</th>\n",
       "      <th>label</th>\n",
       "    </tr>\n",
       "  </thead>\n",
       "  <tbody>\n",
       "    <tr>\n",
       "      <th>0</th>\n",
       "      <td>106</td>\n",
       "      <td>just had a real good moment i missssssssss him...</td>\n",
       "      <td>0</td>\n",
       "    </tr>\n",
       "    <tr>\n",
       "      <th>1</th>\n",
       "      <td>217</td>\n",
       "      <td>is reading manga</td>\n",
       "      <td>0</td>\n",
       "    </tr>\n",
       "    <tr>\n",
       "      <th>2</th>\n",
       "      <td>220</td>\n",
       "      <td>comeagainjen</td>\n",
       "      <td>0</td>\n",
       "    </tr>\n",
       "    <tr>\n",
       "      <th>3</th>\n",
       "      <td>288</td>\n",
       "      <td>lapcat need to send em to my accountant tomorr...</td>\n",
       "      <td>0</td>\n",
       "    </tr>\n",
       "    <tr>\n",
       "      <th>4</th>\n",
       "      <td>540</td>\n",
       "      <td>add me on myspace  myspacecomlookthunder</td>\n",
       "      <td>0</td>\n",
       "    </tr>\n",
       "  </tbody>\n",
       "</table>\n",
       "</div>"
      ],
      "text/plain": [
       "   Index                                               Text  label\n",
       "0    106  just had a real good moment i missssssssss him...      0\n",
       "1    217                                 is reading manga        0\n",
       "2    220                                   comeagainjen          0\n",
       "3    288  lapcat need to send em to my accountant tomorr...      0\n",
       "4    540           add me on myspace  myspacecomlookthunder      0"
      ]
     },
     "execution_count": 10,
     "metadata": {},
     "output_type": "execute_result"
    }
   ],
   "source": [
    "punctuation = string.punctuation\n",
    "\n",
    "# Function to remove punctuation from text\n",
    "def remove_punctuation(text):\n",
    "    return text.translate(str.maketrans('', '', punctuation))\n",
    "\n",
    "# Apply remove_punctuation function to 'Text' column\n",
    "data['Text'] = data['Text'].apply(remove_punctuation)\n",
    "\n",
    "data.head()"
   ]
  },
  {
   "cell_type": "markdown",
   "id": "2b0acf55",
   "metadata": {
    "papermill": {
     "duration": 0.012596,
     "end_time": "2024-07-26T12:51:44.940067",
     "exception": false,
     "start_time": "2024-07-26T12:51:44.927471",
     "status": "completed"
    },
    "tags": []
   },
   "source": [
    "# **Handling ChatWords :**"
   ]
  },
  {
   "cell_type": "code",
   "execution_count": 11,
   "id": "0fd170cc",
   "metadata": {
    "execution": {
     "iopub.execute_input": "2024-07-26T12:51:44.967183Z",
     "iopub.status.busy": "2024-07-26T12:51:44.966544Z",
     "iopub.status.idle": "2024-07-26T12:51:45.039491Z",
     "shell.execute_reply": "2024-07-26T12:51:45.038683Z"
    },
    "papermill": {
     "duration": 0.088535,
     "end_time": "2024-07-26T12:51:45.041423",
     "exception": false,
     "start_time": "2024-07-26T12:51:44.952888",
     "status": "completed"
    },
    "tags": []
   },
   "outputs": [
    {
     "data": {
      "text/html": [
       "<div>\n",
       "<style scoped>\n",
       "    .dataframe tbody tr th:only-of-type {\n",
       "        vertical-align: middle;\n",
       "    }\n",
       "\n",
       "    .dataframe tbody tr th {\n",
       "        vertical-align: top;\n",
       "    }\n",
       "\n",
       "    .dataframe thead th {\n",
       "        text-align: right;\n",
       "    }\n",
       "</style>\n",
       "<table border=\"1\" class=\"dataframe\">\n",
       "  <thead>\n",
       "    <tr style=\"text-align: right;\">\n",
       "      <th></th>\n",
       "      <th>Index</th>\n",
       "      <th>Text</th>\n",
       "      <th>label</th>\n",
       "    </tr>\n",
       "  </thead>\n",
       "  <tbody>\n",
       "    <tr>\n",
       "      <th>0</th>\n",
       "      <td>106</td>\n",
       "      <td>just had a real good moment i missssssssss him...</td>\n",
       "      <td>0</td>\n",
       "    </tr>\n",
       "    <tr>\n",
       "      <th>1</th>\n",
       "      <td>217</td>\n",
       "      <td>is reading manga</td>\n",
       "      <td>0</td>\n",
       "    </tr>\n",
       "    <tr>\n",
       "      <th>2</th>\n",
       "      <td>220</td>\n",
       "      <td>comeagainjen</td>\n",
       "      <td>0</td>\n",
       "    </tr>\n",
       "    <tr>\n",
       "      <th>3</th>\n",
       "      <td>288</td>\n",
       "      <td>lapcat need to send em to my accountant tomorr...</td>\n",
       "      <td>0</td>\n",
       "    </tr>\n",
       "    <tr>\n",
       "      <th>4</th>\n",
       "      <td>540</td>\n",
       "      <td>add me on myspace myspacecomlookthunder</td>\n",
       "      <td>0</td>\n",
       "    </tr>\n",
       "  </tbody>\n",
       "</table>\n",
       "</div>"
      ],
      "text/plain": [
       "   Index                                               Text  label\n",
       "0    106  just had a real good moment i missssssssss him...      0\n",
       "1    217                                   is reading manga      0\n",
       "2    220                                       comeagainjen      0\n",
       "3    288  lapcat need to send em to my accountant tomorr...      0\n",
       "4    540            add me on myspace myspacecomlookthunder      0"
      ]
     },
     "execution_count": 11,
     "metadata": {},
     "output_type": "execute_result"
    }
   ],
   "source": [
    "chat_words = {\n",
    "    \"AFAIK\": \"As Far As I Know\",\n",
    "    \"AFK\": \"Away From Keyboard\",\n",
    "    \"ASAP\": \"As Soon As Possible\",\n",
    "    \"ATK\": \"At The Keyboard\",\n",
    "    \"ATM\": \"At The Moment\",\n",
    "    \"A3\": \"Anytime, Anywhere, Anyplace\",\n",
    "    \"BAK\": \"Back At Keyboard\",\n",
    "    \"BBL\": \"Be Back Later\",\n",
    "    \"BBS\": \"Be Back Soon\",\n",
    "    \"BFN\": \"Bye For Now\",\n",
    "    \"B4N\": \"Bye For Now\",\n",
    "    \"BRB\": \"Be Right Back\",\n",
    "    \"BRT\": \"Be Right There\",\n",
    "    \"BTW\": \"By The Way\",\n",
    "    \"B4\": \"Before\",\n",
    "    \"B4N\": \"Bye For Now\",\n",
    "    \"CU\": \"See You\",\n",
    "    \"CUL8R\": \"See You Later\",\n",
    "    \"CYA\": \"See You\",\n",
    "    \"FAQ\": \"Frequently Asked Questions\",\n",
    "    \"FC\": \"Fingers Crossed\",\n",
    "    \"FWIW\": \"For What It's Worth\",\n",
    "    \"FYI\": \"For Your Information\",\n",
    "    \"GAL\": \"Get A Life\",\n",
    "    \"GG\": \"Good Game\",\n",
    "    \"GN\": \"Good Night\",\n",
    "    \"GMTA\": \"Great Minds Think Alike\",\n",
    "    \"GR8\": \"Great!\",\n",
    "    \"G9\": \"Genius\",\n",
    "    \"IC\": \"I See\",\n",
    "    \"ICQ\": \"I Seek you (also a chat program)\",\n",
    "    \"ILU\": \"ILU: I Love You\",\n",
    "    \"IMHO\": \"In My Honest/Humble Opinion\",\n",
    "    \"IMO\": \"In My Opinion\",\n",
    "    \"IOW\": \"In Other Words\",\n",
    "    \"IRL\": \"In Real Life\",\n",
    "    \"KISS\": \"Keep It Simple, Stupid\",\n",
    "    \"LDR\": \"Long Distance Relationship\",\n",
    "    \"LMAO\": \"Laugh My A.. Off\",\n",
    "    \"LOL\": \"Laughing Out Loud\",\n",
    "    \"LTNS\": \"Long Time No See\",\n",
    "    \"L8R\": \"Later\",\n",
    "    \"MTE\": \"My Thoughts Exactly\",\n",
    "    \"M8\": \"Mate\",\n",
    "    \"NRN\": \"No Reply Necessary\",\n",
    "    \"OIC\": \"Oh I See\",\n",
    "    \"PITA\": \"Pain In The A..\",\n",
    "    \"PRT\": \"Party\",\n",
    "    \"PRW\": \"Parents Are Watching\",\n",
    "    \"QPSA?\": \"Que Pasa?\",\n",
    "    \"ROFL\": \"Rolling On The Floor Laughing\",\n",
    "    \"ROFLOL\": \"Rolling On The Floor Laughing Out Loud\",\n",
    "    \"ROTFLMAO\": \"Rolling On The Floor Laughing My A.. Off\",\n",
    "    \"SK8\": \"Skate\",\n",
    "    \"STATS\": \"Your sex and age\",\n",
    "    \"ASL\": \"Age, Sex, Location\",\n",
    "    \"THX\": \"Thank You\",\n",
    "    \"TTFN\": \"Ta-Ta For Now!\",\n",
    "    \"TTYL\": \"Talk To You Later\",\n",
    "    \"U\": \"You\",\n",
    "    \"U2\": \"You Too\",\n",
    "    \"U4E\": \"Yours For Ever\",\n",
    "    \"WB\": \"Welcome Back\",\n",
    "    \"WTF\": \"What The F...\",\n",
    "    \"WTG\": \"Way To Go!\",\n",
    "    \"WUF\": \"Where Are You From?\",\n",
    "    \"W8\": \"Wait...\",\n",
    "    \"7K\": \"Sick:-D Laugher\",\n",
    "    \"TFW\": \"That feeling when\",\n",
    "    \"MFW\": \"My face when\",\n",
    "    \"MRW\": \"My reaction when\",\n",
    "    \"IFYP\": \"I feel your pain\",\n",
    "    \"TNTL\": \"Trying not to laugh\",\n",
    "    \"JK\": \"Just kidding\",\n",
    "    \"IDC\": \"I don't care\",\n",
    "    \"ILY\": \"I love you\",\n",
    "    \"IMU\": \"I miss you\",\n",
    "    \"ADIH\": \"Another day in hell\",\n",
    "    \"ZZZ\": \"Sleeping, bored, tired\",\n",
    "    \"WYWH\": \"Wish you were here\",\n",
    "    \"TIME\": \"Tears in my eyes\",\n",
    "    \"BAE\": \"Before anyone else\",\n",
    "    \"FIMH\": \"Forever in my heart\",\n",
    "    \"BSAAW\": \"Big smile and a wink\",\n",
    "    \"BWL\": \"Bursting with laughter\",\n",
    "    \"BFF\": \"Best friends forever\",\n",
    "    \"CSL\": \"Can't stop laughing\"\n",
    "}\n",
    "\n",
    "# Function to replace chat words with their full forms\n",
    "def replace_chat_words(text):\n",
    "    words = text.split()\n",
    "    for i, word in enumerate(words):\n",
    "        if word.lower() in chat_words:\n",
    "            words[i] = chat_words[word.lower()]\n",
    "    return ' '.join(words)\n",
    "\n",
    "# Apply replace_chat_words function to 'Text' column\n",
    "data['Text'] = data['Text'].apply(replace_chat_words) \n",
    "\n",
    "data.head()"
   ]
  },
  {
   "cell_type": "markdown",
   "id": "05f027a0",
   "metadata": {
    "papermill": {
     "duration": 0.012921,
     "end_time": "2024-07-26T12:51:45.067855",
     "exception": false,
     "start_time": "2024-07-26T12:51:45.054934",
     "status": "completed"
    },
    "tags": []
   },
   "source": [
    "# **Handling StopWords :**"
   ]
  },
  {
   "cell_type": "code",
   "execution_count": 12,
   "id": "f3c3c5b7",
   "metadata": {
    "execution": {
     "iopub.execute_input": "2024-07-26T12:51:45.133880Z",
     "iopub.status.busy": "2024-07-26T12:51:45.133548Z",
     "iopub.status.idle": "2024-07-26T12:51:46.521530Z",
     "shell.execute_reply": "2024-07-26T12:51:46.520677Z"
    },
    "papermill": {
     "duration": 1.442599,
     "end_time": "2024-07-26T12:51:46.523577",
     "exception": false,
     "start_time": "2024-07-26T12:51:45.080978",
     "status": "completed"
    },
    "tags": []
   },
   "outputs": [
    {
     "data": {
      "text/html": [
       "<div>\n",
       "<style scoped>\n",
       "    .dataframe tbody tr th:only-of-type {\n",
       "        vertical-align: middle;\n",
       "    }\n",
       "\n",
       "    .dataframe tbody tr th {\n",
       "        vertical-align: top;\n",
       "    }\n",
       "\n",
       "    .dataframe thead th {\n",
       "        text-align: right;\n",
       "    }\n",
       "</style>\n",
       "<table border=\"1\" class=\"dataframe\">\n",
       "  <thead>\n",
       "    <tr style=\"text-align: right;\">\n",
       "      <th></th>\n",
       "      <th>Index</th>\n",
       "      <th>Text</th>\n",
       "      <th>label</th>\n",
       "    </tr>\n",
       "  </thead>\n",
       "  <tbody>\n",
       "    <tr>\n",
       "      <th>0</th>\n",
       "      <td>106</td>\n",
       "      <td>real good moment missssssssss much</td>\n",
       "      <td>0</td>\n",
       "    </tr>\n",
       "    <tr>\n",
       "      <th>1</th>\n",
       "      <td>217</td>\n",
       "      <td>reading manga</td>\n",
       "      <td>0</td>\n",
       "    </tr>\n",
       "    <tr>\n",
       "      <th>2</th>\n",
       "      <td>220</td>\n",
       "      <td>comeagainjen</td>\n",
       "      <td>0</td>\n",
       "    </tr>\n",
       "    <tr>\n",
       "      <th>3</th>\n",
       "      <td>288</td>\n",
       "      <td>lapcat need send em accountant tomorrow oddly ...</td>\n",
       "      <td>0</td>\n",
       "    </tr>\n",
       "    <tr>\n",
       "      <th>4</th>\n",
       "      <td>540</td>\n",
       "      <td>add myspace myspacecomlookthunder</td>\n",
       "      <td>0</td>\n",
       "    </tr>\n",
       "  </tbody>\n",
       "</table>\n",
       "</div>"
      ],
      "text/plain": [
       "   Index                                               Text  label\n",
       "0    106                 real good moment missssssssss much      0\n",
       "1    217                                      reading manga      0\n",
       "2    220                                       comeagainjen      0\n",
       "3    288  lapcat need send em accountant tomorrow oddly ...      0\n",
       "4    540                  add myspace myspacecomlookthunder      0"
      ]
     },
     "execution_count": 12,
     "metadata": {},
     "output_type": "execute_result"
    }
   ],
   "source": [
    "def remove_stopwords(text):\n",
    "    stop_words = set(stopwords.words('english'))\n",
    "    words = text.split()\n",
    "    filtered_words = [word for word in words if word.lower() not in stop_words]\n",
    "    return ' '.join(filtered_words)\n",
    "\n",
    "# Example usage\n",
    "data['Text'] = data['Text'].apply(remove_stopwords)\n",
    "data.head()"
   ]
  },
  {
   "cell_type": "markdown",
   "id": "df0623cd",
   "metadata": {
    "papermill": {
     "duration": 0.013513,
     "end_time": "2024-07-26T12:51:46.550952",
     "exception": false,
     "start_time": "2024-07-26T12:51:46.537439",
     "status": "completed"
    },
    "tags": []
   },
   "source": [
    "# **Handling Emojis :**"
   ]
  },
  {
   "cell_type": "code",
   "execution_count": 13,
   "id": "7d6686aa",
   "metadata": {
    "execution": {
     "iopub.execute_input": "2024-07-26T12:51:46.578413Z",
     "iopub.status.busy": "2024-07-26T12:51:46.578128Z",
     "iopub.status.idle": "2024-07-26T12:51:47.677640Z",
     "shell.execute_reply": "2024-07-26T12:51:47.676568Z"
    },
    "papermill": {
     "duration": 1.116064,
     "end_time": "2024-07-26T12:51:47.680179",
     "exception": false,
     "start_time": "2024-07-26T12:51:46.564115",
     "status": "completed"
    },
    "tags": []
   },
   "outputs": [
    {
     "data": {
      "text/html": [
       "<div>\n",
       "<style scoped>\n",
       "    .dataframe tbody tr th:only-of-type {\n",
       "        vertical-align: middle;\n",
       "    }\n",
       "\n",
       "    .dataframe tbody tr th {\n",
       "        vertical-align: top;\n",
       "    }\n",
       "\n",
       "    .dataframe thead th {\n",
       "        text-align: right;\n",
       "    }\n",
       "</style>\n",
       "<table border=\"1\" class=\"dataframe\">\n",
       "  <thead>\n",
       "    <tr style=\"text-align: right;\">\n",
       "      <th></th>\n",
       "      <th>Index</th>\n",
       "      <th>Text</th>\n",
       "      <th>label</th>\n",
       "    </tr>\n",
       "  </thead>\n",
       "  <tbody>\n",
       "    <tr>\n",
       "      <th>0</th>\n",
       "      <td>106</td>\n",
       "      <td>real good moment missssssssss much</td>\n",
       "      <td>0</td>\n",
       "    </tr>\n",
       "    <tr>\n",
       "      <th>1</th>\n",
       "      <td>217</td>\n",
       "      <td>reading manga</td>\n",
       "      <td>0</td>\n",
       "    </tr>\n",
       "    <tr>\n",
       "      <th>2</th>\n",
       "      <td>220</td>\n",
       "      <td>comeagainjen</td>\n",
       "      <td>0</td>\n",
       "    </tr>\n",
       "    <tr>\n",
       "      <th>3</th>\n",
       "      <td>288</td>\n",
       "      <td>lapcat need send em accountant tomorrow oddly ...</td>\n",
       "      <td>0</td>\n",
       "    </tr>\n",
       "    <tr>\n",
       "      <th>4</th>\n",
       "      <td>540</td>\n",
       "      <td>add myspace myspacecomlookthunder</td>\n",
       "      <td>0</td>\n",
       "    </tr>\n",
       "  </tbody>\n",
       "</table>\n",
       "</div>"
      ],
      "text/plain": [
       "   Index                                               Text  label\n",
       "0    106                 real good moment missssssssss much      0\n",
       "1    217                                      reading manga      0\n",
       "2    220                                       comeagainjen      0\n",
       "3    288  lapcat need send em accountant tomorrow oddly ...      0\n",
       "4    540                  add myspace myspacecomlookthunder      0"
      ]
     },
     "execution_count": 13,
     "metadata": {},
     "output_type": "execute_result"
    }
   ],
   "source": [
    "def remove_emojis(text):\n",
    "    return emoji.replace_emoji(text, replace='')\n",
    "\n",
    "\n",
    "data['Text'] = data['Text'].apply(remove_emojis)\n",
    "\n",
    "data.head()"
   ]
  },
  {
   "cell_type": "code",
   "execution_count": 14,
   "id": "7444291a",
   "metadata": {
    "execution": {
     "iopub.execute_input": "2024-07-26T12:51:47.710413Z",
     "iopub.status.busy": "2024-07-26T12:51:47.710133Z",
     "iopub.status.idle": "2024-07-26T12:51:50.590315Z",
     "shell.execute_reply": "2024-07-26T12:51:50.589533Z"
    },
    "papermill": {
     "duration": 2.896732,
     "end_time": "2024-07-26T12:51:50.592559",
     "exception": false,
     "start_time": "2024-07-26T12:51:47.695827",
     "status": "completed"
    },
    "tags": []
   },
   "outputs": [],
   "source": [
    "from nltk.stem.porter import PorterStemmer\n",
    "\n",
    "ps = PorterStemmer()\n",
    "\n",
    "def stem_words(text):\n",
    "    return \" \".join([ps.stem(word) for word in text.split()])\n",
    "\n",
    "data['Text'] = data['Text'].apply(stem_words)\n",
    "\n"
   ]
  },
  {
   "cell_type": "markdown",
   "id": "51867a1b",
   "metadata": {
    "papermill": {
     "duration": 0.013753,
     "end_time": "2024-07-26T12:51:50.621541",
     "exception": false,
     "start_time": "2024-07-26T12:51:50.607788",
     "status": "completed"
    },
    "tags": []
   },
   "source": [
    "# **Train Test Split :**"
   ]
  },
  {
   "cell_type": "code",
   "execution_count": 15,
   "id": "48cee5c8",
   "metadata": {
    "execution": {
     "iopub.execute_input": "2024-07-26T12:51:50.650345Z",
     "iopub.status.busy": "2024-07-26T12:51:50.650046Z",
     "iopub.status.idle": "2024-07-26T12:51:50.660815Z",
     "shell.execute_reply": "2024-07-26T12:51:50.660073Z"
    },
    "papermill": {
     "duration": 0.027289,
     "end_time": "2024-07-26T12:51:50.662665",
     "exception": false,
     "start_time": "2024-07-26T12:51:50.635376",
     "status": "completed"
    },
    "tags": []
   },
   "outputs": [],
   "source": [
    "X = data['Text']\n",
    "y = data['label']\n",
    "\n",
    "X_train, X_test, y_train, y_test = train_test_split(X, y, test_size=0.2, random_state=12)"
   ]
  },
  {
   "cell_type": "markdown",
   "id": "2b4d7e3d",
   "metadata": {
    "papermill": {
     "duration": 0.013294,
     "end_time": "2024-07-26T12:51:50.689589",
     "exception": false,
     "start_time": "2024-07-26T12:51:50.676295",
     "status": "completed"
    },
    "tags": []
   },
   "source": [
    "# **Tokenization and Padding Sequences :**"
   ]
  },
  {
   "cell_type": "code",
   "execution_count": 16,
   "id": "c5bd58cb",
   "metadata": {
    "execution": {
     "iopub.execute_input": "2024-07-26T12:51:50.717576Z",
     "iopub.status.busy": "2024-07-26T12:51:50.717288Z",
     "iopub.status.idle": "2024-07-26T12:51:50.930409Z",
     "shell.execute_reply": "2024-07-26T12:51:50.929704Z"
    },
    "papermill": {
     "duration": 0.229493,
     "end_time": "2024-07-26T12:51:50.932538",
     "exception": false,
     "start_time": "2024-07-26T12:51:50.703045",
     "status": "completed"
    },
    "tags": []
   },
   "outputs": [],
   "source": [
    "# 9. Tokenization and Padding Sequences\n",
    "\n",
    "tokenizer = Tokenizer(oov_token = 'nothing')\n",
    "tokenizer.fit_on_texts(X_train)\n",
    "tokenizer.fit_on_texts(X_test)"
   ]
  },
  {
   "cell_type": "code",
   "execution_count": 17,
   "id": "1fbb3d79",
   "metadata": {
    "execution": {
     "iopub.execute_input": "2024-07-26T12:51:50.960693Z",
     "iopub.status.busy": "2024-07-26T12:51:50.960424Z",
     "iopub.status.idle": "2024-07-26T12:51:50.966256Z",
     "shell.execute_reply": "2024-07-26T12:51:50.965429Z"
    },
    "papermill": {
     "duration": 0.021888,
     "end_time": "2024-07-26T12:51:50.968056",
     "exception": false,
     "start_time": "2024-07-26T12:51:50.946168",
     "status": "completed"
    },
    "tags": []
   },
   "outputs": [
    {
     "data": {
      "text/plain": [
       "10314"
      ]
     },
     "execution_count": 17,
     "metadata": {},
     "output_type": "execute_result"
    }
   ],
   "source": [
    "tokenizer.document_count"
   ]
  },
  {
   "cell_type": "code",
   "execution_count": 18,
   "id": "a2ff7984",
   "metadata": {
    "execution": {
     "iopub.execute_input": "2024-07-26T12:51:50.996662Z",
     "iopub.status.busy": "2024-07-26T12:51:50.996193Z",
     "iopub.status.idle": "2024-07-26T12:51:51.138806Z",
     "shell.execute_reply": "2024-07-26T12:51:51.138139Z"
    },
    "papermill": {
     "duration": 0.158826,
     "end_time": "2024-07-26T12:51:51.140595",
     "exception": false,
     "start_time": "2024-07-26T12:51:50.981769",
     "status": "completed"
    },
    "tags": []
   },
   "outputs": [],
   "source": [
    "X_train_sequences = tokenizer.texts_to_sequences(X_train)\n",
    "X_test_sequences = tokenizer.texts_to_sequences(X_test)"
   ]
  },
  {
   "cell_type": "code",
   "execution_count": 19,
   "id": "82c2a2d0",
   "metadata": {
    "execution": {
     "iopub.execute_input": "2024-07-26T12:51:51.168952Z",
     "iopub.status.busy": "2024-07-26T12:51:51.168650Z",
     "iopub.status.idle": "2024-07-26T12:51:51.173938Z",
     "shell.execute_reply": "2024-07-26T12:51:51.173084Z"
    },
    "papermill": {
     "duration": 0.021588,
     "end_time": "2024-07-26T12:51:51.175950",
     "exception": false,
     "start_time": "2024-07-26T12:51:51.154362",
     "status": "completed"
    },
    "tags": []
   },
   "outputs": [
    {
     "name": "stdout",
     "output_type": "stream",
     "text": [
      "Maximum sequence length (maxlen): 75\n"
     ]
    }
   ],
   "source": [
    "# Max Len in X_train_sequences\n",
    "maxlen = max(len(tokens) for tokens in X_train_sequences)\n",
    "print(\"Maximum sequence length (maxlen):\", maxlen)"
   ]
  },
  {
   "cell_type": "code",
   "execution_count": 20,
   "id": "a522a726",
   "metadata": {
    "execution": {
     "iopub.execute_input": "2024-07-26T12:51:51.204531Z",
     "iopub.status.busy": "2024-07-26T12:51:51.204283Z",
     "iopub.status.idle": "2024-07-26T12:51:51.248041Z",
     "shell.execute_reply": "2024-07-26T12:51:51.247387Z"
    },
    "papermill": {
     "duration": 0.060226,
     "end_time": "2024-07-26T12:51:51.249821",
     "exception": false,
     "start_time": "2024-07-26T12:51:51.189595",
     "status": "completed"
    },
    "tags": []
   },
   "outputs": [],
   "source": [
    "# Perform padding on X_train and X_test sequences\n",
    "X_train_padded = pad_sequences(X_train_sequences, maxlen=maxlen, padding='post')\n",
    "X_test_padded = pad_sequences(X_test_sequences, maxlen=maxlen, padding='post')"
   ]
  },
  {
   "cell_type": "code",
   "execution_count": 21,
   "id": "f595130f",
   "metadata": {
    "execution": {
     "iopub.execute_input": "2024-07-26T12:51:51.278731Z",
     "iopub.status.busy": "2024-07-26T12:51:51.278477Z",
     "iopub.status.idle": "2024-07-26T12:51:51.283999Z",
     "shell.execute_reply": "2024-07-26T12:51:51.283129Z"
    },
    "papermill": {
     "duration": 0.022489,
     "end_time": "2024-07-26T12:51:51.285946",
     "exception": false,
     "start_time": "2024-07-26T12:51:51.263457",
     "status": "completed"
    },
    "tags": []
   },
   "outputs": [
    {
     "name": "stdout",
     "output_type": "stream",
     "text": [
      "X_train_padded:\n",
      "[[ 1440  1993  5306 ...     0     0     0]\n",
      " [ 5307    58   777 ...     0     0     0]\n",
      " [ 3530  5309   501 ...     0     0     0]\n",
      " ...\n",
      " [16219   932    26 ...     0     0     0]\n",
      " [   53     0     0 ...     0     0     0]\n",
      " [  143   396   404 ...     0     0     0]]\n",
      "\n",
      "X_test_padded:\n",
      "[[ 4851    32   216 ...     0     0     0]\n",
      " [16221  1406  4854 ...     0     0     0]\n",
      " [  543  2063    79 ...     0     0     0]\n",
      " ...\n",
      " [  472   686   344 ...     0     0     0]\n",
      " [18905   291  4858 ...     0     0     0]\n",
      " [ 2646  1808     0 ...     0     0     0]]\n"
     ]
    }
   ],
   "source": [
    "# Print the padded sequences for X_train and X_test\n",
    "print(\"X_train_padded:\")\n",
    "print(X_train_padded)\n",
    "print(\"\\nX_test_padded:\")\n",
    "print(X_test_padded)"
   ]
  },
  {
   "cell_type": "code",
   "execution_count": 22,
   "id": "82860bef",
   "metadata": {
    "execution": {
     "iopub.execute_input": "2024-07-26T12:51:51.314933Z",
     "iopub.status.busy": "2024-07-26T12:51:51.314663Z",
     "iopub.status.idle": "2024-07-26T12:51:51.321799Z",
     "shell.execute_reply": "2024-07-26T12:51:51.320970Z"
    },
    "papermill": {
     "duration": 0.023844,
     "end_time": "2024-07-26T12:51:51.323776",
     "exception": false,
     "start_time": "2024-07-26T12:51:51.299932",
     "status": "completed"
    },
    "tags": []
   },
   "outputs": [
    {
     "data": {
      "text/plain": [
       "16221"
      ]
     },
     "execution_count": 22,
     "metadata": {},
     "output_type": "execute_result"
    }
   ],
   "source": [
    "# Input Size\n",
    "# Embedding Input Size / Vocabulary Size \n",
    "input_Size = np.max(X_train_padded) + 1\n",
    "input_Size"
   ]
  },
  {
   "cell_type": "markdown",
   "id": "fdd5c684",
   "metadata": {
    "papermill": {
     "duration": 0.013607,
     "end_time": "2024-07-26T12:51:51.351156",
     "exception": false,
     "start_time": "2024-07-26T12:51:51.337549",
     "status": "completed"
    },
    "tags": []
   },
   "source": [
    "# <a id=\"Import\"></a>\n",
    "# <p style=\"background-color: #FFC0CB; font-family: 'Copperplate'; color:#4B0082; font-size:140%; text-align:center; border-radius:1000px 10px;\"> Modeling</p> "
   ]
  },
  {
   "cell_type": "markdown",
   "id": "6ab4b474",
   "metadata": {
    "papermill": {
     "duration": 0.013751,
     "end_time": "2024-07-26T12:51:51.378779",
     "exception": false,
     "start_time": "2024-07-26T12:51:51.365028",
     "status": "completed"
    },
    "tags": []
   },
   "source": [
    "# **Model Building:**"
   ]
  },
  {
   "cell_type": "code",
   "execution_count": 23,
   "id": "49a4b7a5",
   "metadata": {
    "execution": {
     "iopub.execute_input": "2024-07-26T12:51:51.408353Z",
     "iopub.status.busy": "2024-07-26T12:51:51.408105Z",
     "iopub.status.idle": "2024-07-26T12:51:52.836899Z",
     "shell.execute_reply": "2024-07-26T12:51:52.836023Z"
    },
    "papermill": {
     "duration": 1.446066,
     "end_time": "2024-07-26T12:51:52.839242",
     "exception": false,
     "start_time": "2024-07-26T12:51:51.393176",
     "status": "completed"
    },
    "tags": []
   },
   "outputs": [
    {
     "name": "stderr",
     "output_type": "stream",
     "text": [
      "/opt/conda/lib/python3.10/site-packages/keras/src/layers/rnn/rnn.py:204: UserWarning: Do not pass an `input_shape`/`input_dim` argument to a layer. When using Sequential models, prefer using an `Input(shape)` object as the first layer in the model instead.\n",
      "  super().__init__(**kwargs)\n"
     ]
    }
   ],
   "source": [
    "model = Sequential()\n",
    "\n",
    "model.add(LSTM(256, input_shape=(75,1), return_sequences=True))  \n",
    "\n",
    "model.add(LSTM(128)) \n",
    "\n",
    "model.add(Dense(64, activation='relu'))  \n",
    "model.add(Dropout(0.01))\n",
    "\n",
    "model.add(Dense(1, activation='sigmoid')) "
   ]
  },
  {
   "cell_type": "markdown",
   "id": "cb43f649",
   "metadata": {
    "papermill": {
     "duration": 0.014314,
     "end_time": "2024-07-26T12:51:52.868479",
     "exception": false,
     "start_time": "2024-07-26T12:51:52.854165",
     "status": "completed"
    },
    "tags": []
   },
   "source": [
    "# **Model  Compilation:**"
   ]
  },
  {
   "cell_type": "code",
   "execution_count": 24,
   "id": "1782d49c",
   "metadata": {
    "execution": {
     "iopub.execute_input": "2024-07-26T12:51:52.898469Z",
     "iopub.status.busy": "2024-07-26T12:51:52.898164Z",
     "iopub.status.idle": "2024-07-26T12:51:52.926000Z",
     "shell.execute_reply": "2024-07-26T12:51:52.925160Z"
    },
    "papermill": {
     "duration": 0.044743,
     "end_time": "2024-07-26T12:51:52.927857",
     "exception": false,
     "start_time": "2024-07-26T12:51:52.883114",
     "status": "completed"
    },
    "tags": []
   },
   "outputs": [
    {
     "data": {
      "text/html": [
       "<pre style=\"white-space:pre;overflow-x:auto;line-height:normal;font-family:Menlo,'DejaVu Sans Mono',consolas,'Courier New',monospace\"><span style=\"font-weight: bold\">Model: \"sequential\"</span>\n",
       "</pre>\n"
      ],
      "text/plain": [
       "\u001b[1mModel: \"sequential\"\u001b[0m\n"
      ]
     },
     "metadata": {},
     "output_type": "display_data"
    },
    {
     "data": {
      "text/html": [
       "<pre style=\"white-space:pre;overflow-x:auto;line-height:normal;font-family:Menlo,'DejaVu Sans Mono',consolas,'Courier New',monospace\">┏━━━━━━━━━━━━━━━━━━━━━━━━━━━━━━━━━┳━━━━━━━━━━━━━━━━━━━━━━━━┳━━━━━━━━━━━━━━━┓\n",
       "┃<span style=\"font-weight: bold\"> Layer (type)                    </span>┃<span style=\"font-weight: bold\"> Output Shape           </span>┃<span style=\"font-weight: bold\">       Param # </span>┃\n",
       "┡━━━━━━━━━━━━━━━━━━━━━━━━━━━━━━━━━╇━━━━━━━━━━━━━━━━━━━━━━━━╇━━━━━━━━━━━━━━━┩\n",
       "│ lstm (<span style=\"color: #0087ff; text-decoration-color: #0087ff\">LSTM</span>)                     │ (<span style=\"color: #00d7ff; text-decoration-color: #00d7ff\">None</span>, <span style=\"color: #00af00; text-decoration-color: #00af00\">75</span>, <span style=\"color: #00af00; text-decoration-color: #00af00\">256</span>)        │       <span style=\"color: #00af00; text-decoration-color: #00af00\">264,192</span> │\n",
       "├─────────────────────────────────┼────────────────────────┼───────────────┤\n",
       "│ lstm_1 (<span style=\"color: #0087ff; text-decoration-color: #0087ff\">LSTM</span>)                   │ (<span style=\"color: #00d7ff; text-decoration-color: #00d7ff\">None</span>, <span style=\"color: #00af00; text-decoration-color: #00af00\">128</span>)            │       <span style=\"color: #00af00; text-decoration-color: #00af00\">197,120</span> │\n",
       "├─────────────────────────────────┼────────────────────────┼───────────────┤\n",
       "│ dense (<span style=\"color: #0087ff; text-decoration-color: #0087ff\">Dense</span>)                   │ (<span style=\"color: #00d7ff; text-decoration-color: #00d7ff\">None</span>, <span style=\"color: #00af00; text-decoration-color: #00af00\">64</span>)             │         <span style=\"color: #00af00; text-decoration-color: #00af00\">8,256</span> │\n",
       "├─────────────────────────────────┼────────────────────────┼───────────────┤\n",
       "│ dropout (<span style=\"color: #0087ff; text-decoration-color: #0087ff\">Dropout</span>)               │ (<span style=\"color: #00d7ff; text-decoration-color: #00d7ff\">None</span>, <span style=\"color: #00af00; text-decoration-color: #00af00\">64</span>)             │             <span style=\"color: #00af00; text-decoration-color: #00af00\">0</span> │\n",
       "├─────────────────────────────────┼────────────────────────┼───────────────┤\n",
       "│ dense_1 (<span style=\"color: #0087ff; text-decoration-color: #0087ff\">Dense</span>)                 │ (<span style=\"color: #00d7ff; text-decoration-color: #00d7ff\">None</span>, <span style=\"color: #00af00; text-decoration-color: #00af00\">1</span>)              │            <span style=\"color: #00af00; text-decoration-color: #00af00\">65</span> │\n",
       "└─────────────────────────────────┴────────────────────────┴───────────────┘\n",
       "</pre>\n"
      ],
      "text/plain": [
       "┏━━━━━━━━━━━━━━━━━━━━━━━━━━━━━━━━━┳━━━━━━━━━━━━━━━━━━━━━━━━┳━━━━━━━━━━━━━━━┓\n",
       "┃\u001b[1m \u001b[0m\u001b[1mLayer (type)                   \u001b[0m\u001b[1m \u001b[0m┃\u001b[1m \u001b[0m\u001b[1mOutput Shape          \u001b[0m\u001b[1m \u001b[0m┃\u001b[1m \u001b[0m\u001b[1m      Param #\u001b[0m\u001b[1m \u001b[0m┃\n",
       "┡━━━━━━━━━━━━━━━━━━━━━━━━━━━━━━━━━╇━━━━━━━━━━━━━━━━━━━━━━━━╇━━━━━━━━━━━━━━━┩\n",
       "│ lstm (\u001b[38;5;33mLSTM\u001b[0m)                     │ (\u001b[38;5;45mNone\u001b[0m, \u001b[38;5;34m75\u001b[0m, \u001b[38;5;34m256\u001b[0m)        │       \u001b[38;5;34m264,192\u001b[0m │\n",
       "├─────────────────────────────────┼────────────────────────┼───────────────┤\n",
       "│ lstm_1 (\u001b[38;5;33mLSTM\u001b[0m)                   │ (\u001b[38;5;45mNone\u001b[0m, \u001b[38;5;34m128\u001b[0m)            │       \u001b[38;5;34m197,120\u001b[0m │\n",
       "├─────────────────────────────────┼────────────────────────┼───────────────┤\n",
       "│ dense (\u001b[38;5;33mDense\u001b[0m)                   │ (\u001b[38;5;45mNone\u001b[0m, \u001b[38;5;34m64\u001b[0m)             │         \u001b[38;5;34m8,256\u001b[0m │\n",
       "├─────────────────────────────────┼────────────────────────┼───────────────┤\n",
       "│ dropout (\u001b[38;5;33mDropout\u001b[0m)               │ (\u001b[38;5;45mNone\u001b[0m, \u001b[38;5;34m64\u001b[0m)             │             \u001b[38;5;34m0\u001b[0m │\n",
       "├─────────────────────────────────┼────────────────────────┼───────────────┤\n",
       "│ dense_1 (\u001b[38;5;33mDense\u001b[0m)                 │ (\u001b[38;5;45mNone\u001b[0m, \u001b[38;5;34m1\u001b[0m)              │            \u001b[38;5;34m65\u001b[0m │\n",
       "└─────────────────────────────────┴────────────────────────┴───────────────┘\n"
      ]
     },
     "metadata": {},
     "output_type": "display_data"
    },
    {
     "data": {
      "text/html": [
       "<pre style=\"white-space:pre;overflow-x:auto;line-height:normal;font-family:Menlo,'DejaVu Sans Mono',consolas,'Courier New',monospace\"><span style=\"font-weight: bold\"> Total params: </span><span style=\"color: #00af00; text-decoration-color: #00af00\">469,633</span> (1.79 MB)\n",
       "</pre>\n"
      ],
      "text/plain": [
       "\u001b[1m Total params: \u001b[0m\u001b[38;5;34m469,633\u001b[0m (1.79 MB)\n"
      ]
     },
     "metadata": {},
     "output_type": "display_data"
    },
    {
     "data": {
      "text/html": [
       "<pre style=\"white-space:pre;overflow-x:auto;line-height:normal;font-family:Menlo,'DejaVu Sans Mono',consolas,'Courier New',monospace\"><span style=\"font-weight: bold\"> Trainable params: </span><span style=\"color: #00af00; text-decoration-color: #00af00\">469,633</span> (1.79 MB)\n",
       "</pre>\n"
      ],
      "text/plain": [
       "\u001b[1m Trainable params: \u001b[0m\u001b[38;5;34m469,633\u001b[0m (1.79 MB)\n"
      ]
     },
     "metadata": {},
     "output_type": "display_data"
    },
    {
     "data": {
      "text/html": [
       "<pre style=\"white-space:pre;overflow-x:auto;line-height:normal;font-family:Menlo,'DejaVu Sans Mono',consolas,'Courier New',monospace\"><span style=\"font-weight: bold\"> Non-trainable params: </span><span style=\"color: #00af00; text-decoration-color: #00af00\">0</span> (0.00 B)\n",
       "</pre>\n"
      ],
      "text/plain": [
       "\u001b[1m Non-trainable params: \u001b[0m\u001b[38;5;34m0\u001b[0m (0.00 B)\n"
      ]
     },
     "metadata": {},
     "output_type": "display_data"
    }
   ],
   "source": [
    "model.compile(optimizer='adam', loss='binary_crossentropy', metrics=['accuracy'])\n",
    "\n",
    "model.summary()"
   ]
  },
  {
   "cell_type": "markdown",
   "id": "43463cdc",
   "metadata": {
    "papermill": {
     "duration": 0.014709,
     "end_time": "2024-07-26T12:51:52.957478",
     "exception": false,
     "start_time": "2024-07-26T12:51:52.942769",
     "status": "completed"
    },
    "tags": []
   },
   "source": [
    "# **Model Training:**"
   ]
  },
  {
   "cell_type": "code",
   "execution_count": 25,
   "id": "3cc27d5d",
   "metadata": {
    "execution": {
     "iopub.execute_input": "2024-07-26T12:51:52.987993Z",
     "iopub.status.busy": "2024-07-26T12:51:52.987709Z",
     "iopub.status.idle": "2024-07-26T12:52:23.677658Z",
     "shell.execute_reply": "2024-07-26T12:52:23.676730Z"
    },
    "papermill": {
     "duration": 30.707442,
     "end_time": "2024-07-26T12:52:23.679658",
     "exception": false,
     "start_time": "2024-07-26T12:51:52.972216",
     "status": "completed"
    },
    "tags": []
   },
   "outputs": [
    {
     "name": "stdout",
     "output_type": "stream",
     "text": [
      "Epoch 1/10\n",
      "\u001b[1m258/258\u001b[0m \u001b[32m━━━━━━━━━━━━━━━━━━━━\u001b[0m\u001b[37m\u001b[0m \u001b[1m8s\u001b[0m 11ms/step - accuracy: 0.7785 - loss: 0.5147 - val_accuracy: 0.8148 - val_loss: 0.4690\n",
      "Epoch 2/10\n",
      "\u001b[1m258/258\u001b[0m \u001b[32m━━━━━━━━━━━━━━━━━━━━\u001b[0m\u001b[37m\u001b[0m \u001b[1m3s\u001b[0m 10ms/step - accuracy: 0.8263 - loss: 0.4495 - val_accuracy: 0.8352 - val_loss: 0.4282\n",
      "Epoch 3/10\n",
      "\u001b[1m258/258\u001b[0m \u001b[32m━━━━━━━━━━━━━━━━━━━━\u001b[0m\u001b[37m\u001b[0m \u001b[1m3s\u001b[0m 10ms/step - accuracy: 0.8355 - loss: 0.4241 - val_accuracy: 0.9157 - val_loss: 0.2694\n",
      "Epoch 4/10\n",
      "\u001b[1m258/258\u001b[0m \u001b[32m━━━━━━━━━━━━━━━━━━━━\u001b[0m\u001b[37m\u001b[0m \u001b[1m3s\u001b[0m 10ms/step - accuracy: 0.8881 - loss: 0.3231 - val_accuracy: 0.8386 - val_loss: 0.3002\n",
      "Epoch 5/10\n",
      "\u001b[1m258/258\u001b[0m \u001b[32m━━━━━━━━━━━━━━━━━━━━\u001b[0m\u001b[37m\u001b[0m \u001b[1m3s\u001b[0m 10ms/step - accuracy: 0.9438 - loss: 0.1698 - val_accuracy: 0.9656 - val_loss: 0.1013\n",
      "Epoch 6/10\n",
      "\u001b[1m258/258\u001b[0m \u001b[32m━━━━━━━━━━━━━━━━━━━━\u001b[0m\u001b[37m\u001b[0m \u001b[1m3s\u001b[0m 10ms/step - accuracy: 0.9724 - loss: 0.0932 - val_accuracy: 0.9796 - val_loss: 0.0696\n",
      "Epoch 7/10\n",
      "\u001b[1m258/258\u001b[0m \u001b[32m━━━━━━━━━━━━━━━━━━━━\u001b[0m\u001b[37m\u001b[0m \u001b[1m3s\u001b[0m 10ms/step - accuracy: 0.9702 - loss: 0.0956 - val_accuracy: 0.9850 - val_loss: 0.0586\n",
      "Epoch 8/10\n",
      "\u001b[1m258/258\u001b[0m \u001b[32m━━━━━━━━━━━━━━━━━━━━\u001b[0m\u001b[37m\u001b[0m \u001b[1m3s\u001b[0m 10ms/step - accuracy: 0.9791 - loss: 0.0708 - val_accuracy: 0.9855 - val_loss: 0.0565\n",
      "Epoch 9/10\n",
      "\u001b[1m258/258\u001b[0m \u001b[32m━━━━━━━━━━━━━━━━━━━━\u001b[0m\u001b[37m\u001b[0m \u001b[1m3s\u001b[0m 10ms/step - accuracy: 0.9864 - loss: 0.0560 - val_accuracy: 0.9879 - val_loss: 0.0524\n",
      "Epoch 10/10\n",
      "\u001b[1m258/258\u001b[0m \u001b[32m━━━━━━━━━━━━━━━━━━━━\u001b[0m\u001b[37m\u001b[0m \u001b[1m3s\u001b[0m 10ms/step - accuracy: 0.9829 - loss: 0.0634 - val_accuracy: 0.9859 - val_loss: 0.0591\n"
     ]
    }
   ],
   "source": [
    "# Model Train \n",
    "history = model.fit(X_train_padded, y_train, epochs=10, batch_size=32, validation_data=(X_test_padded, y_test))"
   ]
  },
  {
   "cell_type": "markdown",
   "id": "81af2076",
   "metadata": {
    "papermill": {
     "duration": 0.049949,
     "end_time": "2024-07-26T12:52:23.780249",
     "exception": false,
     "start_time": "2024-07-26T12:52:23.730300",
     "status": "completed"
    },
    "tags": []
   },
   "source": [
    "# <a id=\"Import\"></a>\n",
    "# <p style=\"background-color: #FFC0CB; font-family: 'Copperplate'; color:#4B0082; font-size:140%; text-align:center; border-radius:1000px 10px;\">6.0 Prediction</p> "
   ]
  },
  {
   "cell_type": "markdown",
   "id": "5a0c7682",
   "metadata": {
    "papermill": {
     "duration": 0.049528,
     "end_time": "2024-07-26T12:52:23.879232",
     "exception": false,
     "start_time": "2024-07-26T12:52:23.829704",
     "status": "completed"
    },
    "tags": []
   },
   "source": [
    "# **Plotting the graph of Accuracy and Validation Accuracy:**"
   ]
  },
  {
   "cell_type": "code",
   "execution_count": 26,
   "id": "2603851f",
   "metadata": {
    "execution": {
     "iopub.execute_input": "2024-07-26T12:52:23.979524Z",
     "iopub.status.busy": "2024-07-26T12:52:23.979225Z",
     "iopub.status.idle": "2024-07-26T12:52:24.321949Z",
     "shell.execute_reply": "2024-07-26T12:52:24.321057Z"
    },
    "papermill": {
     "duration": 0.395086,
     "end_time": "2024-07-26T12:52:24.323843",
     "exception": false,
     "start_time": "2024-07-26T12:52:23.928757",
     "status": "completed"
    },
    "tags": []
   },
   "outputs": [
    {
     "data": {
      "text/plain": [
       "<matplotlib.legend.Legend at 0x791e3040f400>"
      ]
     },
     "execution_count": 26,
     "metadata": {},
     "output_type": "execute_result"
    },
    {
     "data": {
      "image/png": "[encoded data removed]",
      "text/plain": [
       "<Figure size 640x480 with 1 Axes>"
      ]
     },
     "metadata": {},
     "output_type": "display_data"
    }
   ],
   "source": [
    "plt.title('Training Accuracy vs Validation Accuracy')\n",
    "\n",
    "plt.plot(history.history['accuracy'], color='red',label='Train')\n",
    "plt.plot(history.history['val_accuracy'], color='blue',label='Validation')\n",
    "\n",
    "plt.legend()"
   ]
  },
  {
   "cell_type": "markdown",
   "id": "2aacb861",
   "metadata": {
    "papermill": {
     "duration": 0.050416,
     "end_time": "2024-07-26T12:52:24.424944",
     "exception": false,
     "start_time": "2024-07-26T12:52:24.374528",
     "status": "completed"
    },
    "tags": []
   },
   "source": [
    "# **Plotting the graph of Accuracy and Validation loss:**"
   ]
  },
  {
   "cell_type": "code",
   "execution_count": 27,
   "id": "0c0d74c4",
   "metadata": {
    "execution": {
     "iopub.execute_input": "2024-07-26T12:52:24.526963Z",
     "iopub.status.busy": "2024-07-26T12:52:24.526645Z",
     "iopub.status.idle": "2024-07-26T12:52:24.818852Z",
     "shell.execute_reply": "2024-07-26T12:52:24.818046Z"
    },
    "papermill": {
     "duration": 0.345519,
     "end_time": "2024-07-26T12:52:24.820791",
     "exception": false,
     "start_time": "2024-07-26T12:52:24.475272",
     "status": "completed"
    },
    "tags": []
   },
   "outputs": [
    {
     "data": {
      "text/plain": [
       "<matplotlib.legend.Legend at 0x791e5009bc70>"
      ]
     },
     "execution_count": 27,
     "metadata": {},
     "output_type": "execute_result"
    },
    {
     "data": {
      "image/png": "[encoded data removed]",
      "text/plain": [
       "<Figure size 640x480 with 1 Axes>"
      ]
     },
     "metadata": {},
     "output_type": "display_data"
    }
   ],
   "source": [
    "plt.title('Training Loss vs Validation Loss')\n",
    "\n",
    "plt.plot(history.history['loss'], color='red',label='Train')\n",
    "plt.plot(history.history['val_loss'], color='blue',label='Validation')\n",
    "\n",
    "plt.legend()"
   ]
  },
  {
   "cell_type": "markdown",
   "id": "5a2e2380",
   "metadata": {
    "papermill": {
     "duration": 0.050708,
     "end_time": "2024-07-26T12:52:24.922496",
     "exception": false,
     "start_time": "2024-07-26T12:52:24.871788",
     "status": "completed"
    },
    "tags": []
   },
   "source": [
    "# <a id=\"Import\"></a>\n",
    "# <p style=\"background-color: #FFC0CB; font-family: 'Copperplate'; color:#4B0082; font-size:140%; text-align:center; border-radius:1000px 10px;\">7.0 The End</p> "
   ]
  }
 ],
 "metadata": {
  "kaggle": {
   "accelerator": "nvidiaTeslaT4",
   "dataSources": [
    {
     "datasetId": 1312443,
     "sourceId": 2186313,
     "sourceType": "datasetVersion"
    },
    {
     "datasetId": 5448891,
     "sourceId": 9038762,
     "sourceType": "datasetVersion"
    }
   ],
   "dockerImageVersionId": 30747,
   "isGpuEnabled": true,
   "isInternetEnabled": true,
   "language": "python",
   "sourceType": "notebook"
  },
  "kernelspec": {
   "display_name": "Python 3 (ipykernel)",
   "language": "python",
   "name": "python3"
  },
  "language_info": {
   "codemirror_mode": {
    "name": "ipython",
    "version": 3
   },
   "file_extension": ".py",
   "mimetype": "text/x-python",
   "name": "python",
   "nbconvert_exporter": "python",
   "pygments_lexer": "ipython3",
   "version": "3.12.4"
  },
  "papermill": {
   "default_parameters": {},
   "duration": 61.281007,
   "end_time": "2024-07-26T12:52:27.565668",
   "environment_variables": {},
   "exception": null,
   "input_path": "__notebook__.ipynb",
   "output_path": "__notebook__.ipynb",
   "parameters": {},
   "start_time": "2024-07-26T12:51:26.284661",
   "version": "2.5.0"
  }
 },
 "nbformat": 4,
 "nbformat_minor": 5
}
